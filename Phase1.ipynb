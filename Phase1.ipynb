{
  "nbformat": 4,
  "nbformat_minor": 0,
  "metadata": {
    "colab": {
      "name": "Phase1.ipynb",
      "provenance": []
    },
    "kernelspec": {
      "name": "python3",
      "display_name": "Python 3"
    },
    "language_info": {
      "name": "python"
    }
  },
  "cells": [
    {
      "cell_type": "code",
      "execution_count": null,
      "metadata": {
        "id": "0jc7ScTwlgvH"
      },
      "outputs": [],
      "source": [
        "import os\n",
        "import torch\n",
        "import torchvision\n",
        "import torch.nn as nn\n",
        "import tensorflow.keras\n",
        "from tqdm.notebook import tqdm\n",
        "import torch.nn.functional as F\n",
        "import matplotlib.pyplot as plt\n",
        "from IPython.display import Image\n",
        "import torchvision.transforms as T\n",
        "from torch.utils.data import DataLoader\n",
        "from torchvision.utils import make_grid\n",
        "from torchvision.utils import save_image\n",
        "from scipy.stats import norm"
      ]
    },
    {
      "cell_type": "code",
      "source": [
        "from google.colab import drive\n",
        "drive.mount('/content/drive')"
      ],
      "metadata": {
        "id": "oJnab5C4lqaM"
      },
      "execution_count": null,
      "outputs": []
    },
    {
      "cell_type": "code",
      "source": [
        "sample_dir = \"thermal\"\n",
        "DATA_DIR = '/content/dataset/'\n",
        "norms = (.5, .5, .5), (.5, .5, .5)\n",
        "latent_size=128\n",
        "epochs = 1\n",
        "lr_d = 10e-5\n",
        "lr_g = 10e-4\n",
        "device = torch.device(\"cuda\") if torch.cuda.is_available() else torch.device(\"cpu\")\n",
        "fixed_latent = torch.randn(128, latent_size, 1, 1, device=device)\n",
        "\n",
        "def denorm(img_tensor):\n",
        "    return img_tensor * norms[1][0] + norms[0][0]"
      ],
      "metadata": {
        "id": "UZGc4-WhlyCu"
      },
      "execution_count": null,
      "outputs": []
    },
    {
      "cell_type": "code",
      "source": [
        "transform_low = T.Compose([\n",
        "    T.Resize((128, 128)),T.CenterCrop(128), T.RandomHorizontalFlip(), T.RandomVerticalFlip(),\n",
        "    T.ToTensor(),T.Normalize(*norms)\n",
        "])\n",
        "transform_mid = T.Compose([\n",
        "    T.Resize((256, 256)),T.CenterCrop(256), T.RandomHorizontalFlip(), T.RandomVerticalFlip(),\n",
        "    T.ToTensor(),T.Normalize(*norms)\n",
        "])\n",
        "\n",
        "transform_high = T.Compose([\n",
        "    T.Resize((512, 512)),T.CenterCrop(512), T.RandomHorizontalFlip(), T.RandomVerticalFlip(),\n",
        "    T.ToTensor(),T.Normalize(*norms)])\n"
      ],
      "metadata": {
        "id": "81oL4e7clyFl"
      },
      "execution_count": null,
      "outputs": []
    },
    {
      "cell_type": "code",
      "source": [
        "def show_image(train_dl):\n",
        "    for images,_ in train_dl:\n",
        "        fig, ax = plt.subplots(figsize=(8,8))\n",
        "        ax.set_xticks([]); ax.set_yticks([])\n",
        "        print(images.shape)\n",
        "        ax.imshow(make_grid(denorm(images.detach()[:32]), nrow=8).permute(1,2,0))\n",
        "        break"
      ],
      "metadata": {
        "id": "Wl_3xhMKl5jW"
      },
      "execution_count": null,
      "outputs": []
    },
    {
      "cell_type": "code",
      "source": [
        "data = torchvision.datasets.ImageFolder(root=DATA_DIR, transform=transform_mid)\n",
        "train_dl = DataLoader(data, 128, num_workers=2, pin_memory=True)\n",
        "show_image(train_dl)"
      ],
      "metadata": {
        "id": "flFeuPbHl8dJ"
      },
      "execution_count": null,
      "outputs": []
    }
  ]
}